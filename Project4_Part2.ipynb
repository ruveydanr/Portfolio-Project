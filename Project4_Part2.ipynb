{
 "cells": [
  {
   "cell_type": "code",
   "execution_count": null,
   "id": "3484ed03-746d-4b0b-9f12-62d27d737125",
   "metadata": {},
   "outputs": [],
   "source": [
    "df_numerized=df.copy()"
   ]
  },
  {
   "cell_type": "code",
   "execution_count": null,
   "id": "39087fd0-9976-4245-a3db-d2579141da64",
   "metadata": {},
   "outputs": [],
   "source": [
    "for col_name in df_numerized.columns:\n",
    "    if(df_numerized[col_name].dtype=='object'):\n",
    "        df_numerized[col_name] = df_numerized[col_name].astype('category')\n",
    "        df_numerized[col_name] = df_numerized[col_name].cat.codes"
   ]
  },
  {
   "cell_type": "code",
   "execution_count": null,
   "id": "20c0094a-fa72-49df-ad8e-d06414336a3d",
   "metadata": {},
   "outputs": [],
   "source": [
    "df_numerized"
   ]
  },
  {
   "cell_type": "code",
   "execution_count": null,
   "id": "a9bcb07a-f082-4fd8-a033-b4ea3d4e0ed9",
   "metadata": {},
   "outputs": [],
   "source": [
    "correlation_matrix = df_numerized.corr(method='pearson',numeric_only = True)\n",
    "sns.heatmap(correlation_matrix, annot=True)\n",
    "plt.title('Correlation Matrix for Numeric Features')\n",
    "plt.xlabel('Movie Features')\n",
    "plt.ylabel('Movie Features')\n",
    "plt.show()"
   ]
  },
  {
   "cell_type": "code",
   "execution_count": null,
   "id": "2c72dd0a-7856-4c4a-9736-b480892a6de0",
   "metadata": {},
   "outputs": [],
   "source": [
    "df_numerized.corr()"
   ]
  },
  {
   "cell_type": "code",
   "execution_count": null,
   "id": "452f00a3-7003-4f26-8fd1-77c57470e4b1",
   "metadata": {},
   "outputs": [],
   "source": [
    "correlat_mat = df_numerized.corr()\n",
    "corr_pairs = correlat_mat.unstack()\n",
    "corr_pairs"
   ]
  },
  {
   "cell_type": "code",
   "execution_count": null,
   "id": "ff3fbaae-f923-4031-a6b6-9236c8bd1aa6",
   "metadata": {},
   "outputs": [],
   "source": [
    "sorted_pairs = corr_pairs.sort_values()\n",
    "sorted_pairs"
   ]
  },
  {
   "cell_type": "code",
   "execution_count": null,
   "id": "4dff63ee-c378-41ab-b0a6-7b469dca3abf",
   "metadata": {},
   "outputs": [],
   "source": [
    "high_corr = sorted_pairs[(sorted_pairs)> 0.5]\n",
    "high_corr"
   ]
  },
  {
   "cell_type": "code",
   "execution_count": null,
   "id": "f2cb695c-b90a-4b49-ae22-e662998609e1",
   "metadata": {},
   "outputs": [],
   "source": []
  }
 ],
 "metadata": {
  "kernelspec": {
   "display_name": "Python 3 (ipykernel)",
   "language": "python",
   "name": "python3"
  },
  "language_info": {
   "codemirror_mode": {
    "name": "ipython",
    "version": 3
   },
   "file_extension": ".py",
   "mimetype": "text/x-python",
   "name": "python",
   "nbconvert_exporter": "python",
   "pygments_lexer": "ipython3",
   "version": "3.12.7"
  }
 },
 "nbformat": 4,
 "nbformat_minor": 5
}
